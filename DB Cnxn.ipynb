{
 "cells": [
  {
   "cell_type": "markdown",
   "id": "9bf18ce3",
   "metadata": {},
   "source": [
    "1. The following Python script generates three lists (one for each Payer - Aetna, Horizon, and Humana) of non attributed members with PCP appointments.\n",
    "2. The appointment data is obtained from Athena Database.\n",
    "3. The final lists are saved in the Output folder as : \"Engd Members with No Attribution Jan2023\""
   ]
  },
  {
   "cell_type": "code",
   "execution_count": 12,
   "id": "46c482fa",
   "metadata": {},
   "outputs": [],
   "source": [
    "#import the dependencies\n",
    "import pandas as pd\n",
    "import sqlalchemy \n",
    "from sqlalchemy import create_engine\n",
    "import pyodbc\n",
    "import numpy as np"
   ]
  },
  {
   "cell_type": "code",
   "execution_count": 13,
   "id": "615b105b",
   "metadata": {},
   "outputs": [
    {
     "data": {
      "text/plain": [
       "['SQL Server',\n",
       " 'SQL Server Native Client 11.0',\n",
       " 'ODBC Driver 17 for SQL Server',\n",
       " 'ODBC Driver 13 for SQL Server',\n",
       " 'Microsoft Access Driver (*.mdb, *.accdb)',\n",
       " 'Microsoft Excel Driver (*.xls, *.xlsx, *.xlsm, *.xlsb)',\n",
       " 'Microsoft Access Text Driver (*.txt, *.csv)',\n",
       " 'PostgreSQL ANSI(x64)',\n",
       " 'PostgreSQL Unicode(x64)']"
      ]
     },
     "execution_count": 13,
     "metadata": {},
     "output_type": "execute_result"
    }
   ],
   "source": [
    "pyodbc.drivers()"
   ]
  },
  {
   "cell_type": "code",
   "execution_count": 14,
   "id": "5b6cd006",
   "metadata": {},
   "outputs": [],
   "source": [
    "#connecting with Athena for appointment data\n",
    "cnxn_str = (\"Driver={SQL Server Native Client 11.0};\"\n",
    "            \"Server=cl1d-bisql01.citymd.local;\"\n",
    "            \"Database=Summit;\"\n",
    "            \"Trusted_Connection=yes;\")\n",
    "cnxn = pyodbc.connect(cnxn_str)\n",
    "cnxn.autocommit=True\n",
    "cursor =cnxn.cursor()"
   ]
  },
  {
   "cell_type": "code",
   "execution_count": 15,
   "id": "2d93eb4f",
   "metadata": {},
   "outputs": [
    {
     "data": {
      "text/plain": [
       "<pyodbc.Cursor at 0x22843b50630>"
      ]
     },
     "execution_count": 15,
     "metadata": {},
     "output_type": "execute_result"
    }
   ],
   "source": [
    "#get the insurance of all the members\n",
    "query =\" \\\n",
    "select a.patientid,a.firstname,a.lastname,a.dob,a.sex,a.insurancepackageid,eligibilityservicedate, \\\n",
    "                      eligibilitystatus,SequenceNumber,\\\n",
    "                      row_number() over (partition by patientid order by eligibilityservicedate desc) as rn \\\n",
    "                      into ##temp1 \\\n",
    "                      from [Summit].[dbo].[Athena_PatientInsurance] a \\\n",
    "                      where  eligibilitystatus = 'Y' AND SequenceNumber = 1\"\n",
    "                                \n",
    "cursor.execute(query)"
   ]
  },
  {
   "cell_type": "code",
   "execution_count": 16,
   "id": "1a941839",
   "metadata": {},
   "outputs": [
    {
     "data": {
      "text/plain": [
       "<pyodbc.Cursor at 0x22843b506b0>"
      ]
     },
     "execution_count": 16,
     "metadata": {},
     "output_type": "execute_result"
    }
   ],
   "source": [
    "#store the latest insurance of the member in a temp table\n",
    "cnxn = pyodbc.connect(cnxn_str)\n",
    "cnxn.autocommit=True\n",
    "cursor =cnxn.cursor()\n",
    "sql = \"Select * into ##temp3 from ##temp1 where rn = 1\"\n",
    "cursor.execute(sql)"
   ]
  },
  {
   "cell_type": "code",
   "execution_count": 17,
   "id": "b14306da",
   "metadata": {},
   "outputs": [],
   "source": [
    "#cnxn = pyodbc.connect(cnxn_str)\n",
    "#cnxn.autocommit=True\n",
    "#cursor =cnxn.cursor()\n",
    "#sql= \"Select * into ##temp2 from ##temp1 where rn = 1\"\n",
    "#cursor.execute(sql)"
   ]
  },
  {
   "cell_type": "code",
   "execution_count": 19,
   "id": "b4645b7d",
   "metadata": {
    "scrolled": true
   },
   "outputs": [
    {
     "name": "stderr",
     "output_type": "stream",
     "text": [
      "C:\\Users\\krao2\\Anaconda3\\lib\\site-packages\\pandas\\io\\sql.py:761: UserWarning: pandas only support SQLAlchemy connectable(engine/connection) ordatabase string URI or sqlite3 DBAPI2 connectionother DBAPI2 objects are not tested, please consider using SQLAlchemy\n",
      "  warnings.warn(\n",
      "C:\\Users\\krao2\\Anaconda3\\lib\\site-packages\\pandas\\io\\sql.py:761: UserWarning: pandas only support SQLAlchemy connectable(engine/connection) ordatabase string URI or sqlite3 DBAPI2 connectionother DBAPI2 objects are not tested, please consider using SQLAlchemy\n",
      "  warnings.warn(\n"
     ]
    },
    {
     "name": "stdout",
     "output_type": "stream",
     "text": [
      "Roster/No Engagement HorizonList Jan2023.xlsx\n",
      "U:/Actuary/Contestation/Horizon/Engaged Members with No Attribution/Output/\n"
     ]
    },
    {
     "name": "stderr",
     "output_type": "stream",
     "text": [
      "C:\\Users\\krao2\\Anaconda3\\lib\\site-packages\\pandas\\io\\sql.py:761: UserWarning: pandas only support SQLAlchemy connectable(engine/connection) ordatabase string URI or sqlite3 DBAPI2 connectionother DBAPI2 objects are not tested, please consider using SQLAlchemy\n",
      "  warnings.warn(\n"
     ]
    },
    {
     "name": "stdout",
     "output_type": "stream",
     "text": [
      "COMPLETED\n"
     ]
    }
   ],
   "source": [
    "Payer_list = [\"'AETNA MEDICARE'\",\n",
    "              \"'BCBS HORIZON'\",\n",
    "              \"'UNITED HEALTHCARE'\"]\n",
    "\n",
    "Payer_Roster = ['Roster/No Engagement AetnaList Jan2023.xlsx' ,\n",
    "                'Roster/No Engagement HorizonList Jan2023.xlsx', \n",
    "                'Roster/No Engagement UnitedList Jan2023.xlsx']\n",
    "\n",
    "ofolder = [\"U:/Actuary/Contestation/Aetna/Engaged Members with No Attribution/Output/\",  \n",
    "           \"U:/Actuary/Contestation/Horizon/Engaged Members with No Attribution/Output/\",\n",
    "          \"U:/Actuary/Contestation/United/Engaged Members with No Attribution/Output/\"]\n",
    "\n",
    "#Change the name of the file every month\n",
    "File_name = \"Engd Members with No Attribution Jan2023(f).xlsx\"\n",
    "\n",
    "\n",
    "for Payer in Payer_list:\n",
    "    cnxn = pyodbc.connect(cnxn_str)\n",
    "    cnxn.autocommit=True\n",
    "    cursor =cnxn.cursor()\n",
    "    \n",
    "    #get the latest PCP appointment informaiton\n",
    "    sql =\"\"\"select distinct cast (a.patientid as INT) as mrn,\n",
    "            a.firstname,a.lastname,a.dob,a.sex,b.custominsurancegrouping,a.eligibilityservicedate, \n",
    "            eligibilitystatus,rn,\n",
    "            SequenceNumber,\n",
    "            Planpayer,\n",
    "            d.serviceline,d.engagement, \n",
    "            d.lastvisitdate,LastPCvisitDate,PCP_Reason_Detail,Attributed_YN \n",
    "            from ##temp3 a \n",
    "            join [Summit].[dbo].[Athena_Payer] b on a.insurancepackageid = b. insurancepackageid \n",
    "            left join VBC.dbo.VBCAttributions c on a.patientid = c.enterpriseid \n",
    "            left join VBC.dbo.PatSummitProviderEngagement d on a.patientid = d.enterpriseid \n",
    "            where b.custominsurancegrouping = {}\n",
    "            AND lastname <> 'TESTPATIENT'\n",
    "            AND eligibilitystatus = 'Y' \n",
    "            AND SequenceNumber = 1\n",
    "            order by mrn\"\"\".format(Payer)\n",
    "    \n",
    "    if Payer == Payer_list[0]:\n",
    "        Athena_appts = pd.read_sql(sql,cnxn)\n",
    "        \n",
    "        #upload the Roster file\n",
    "        roster = pd.read_excel(Payer_Roster[0],sheet_name= 'Engagement_List')\n",
    "        \n",
    "        #merge the athena_appt table with the Roster to Flag the attribution\n",
    "        final_df = pd.merge(Athena_appts,roster[['mrn','memberNo','Effective Date','Risk Score (Projected)']], how='left' ,on='mrn')\n",
    "        final_df = final_df.replace(np.nan,'-')\n",
    "        \n",
    "        #filter the df to include only the members with engaged PCP appointments\n",
    "        final_df = final_df[(final_df['serviceline'] == 'PC') & (final_df['engagement'] == 'Engaged' )]\n",
    "        \n",
    "        #export the final_df to an excel sheet\n",
    "        final_df.to_excel(ofolder[0]+File_name,index=False)\n",
    "    \n",
    "    elif Payer == Payer_list[1]:\n",
    "        Athena_appts = pd.read_sql(sql,cnxn)\n",
    "        \n",
    "        #upload the Roster file\n",
    "        print(Payer_Roster[1])\n",
    "        roster = pd.read_excel(Payer_Roster[1],sheet_name= 'Engagement_List')\n",
    "        \n",
    "        #merge the athena_appt table with the Roster to Flag the attribution\n",
    "        final_df = pd.merge(Athena_appts,roster[['mrn','memberNo','RUNDATE','RISK_SCORE']], how='left' ,on='mrn')\n",
    "        final_df = final_df.replace(np.nan,'-')\n",
    "\n",
    "        #filter the df to include only the members with engaged PCP appointments\n",
    "        final_df = final_df[(final_df['serviceline'] == 'PC') & (final_df['engagement'] == 'Engaged' )]\n",
    "        \n",
    "        #export the final_df to an excel sheet\n",
    "        final_df.to_excel(ofolder[1] +File_name,index=False)\n",
    "        print(ofolder[1])\n",
    "        \n",
    "    elif Payer == Payer_list[2]:\n",
    "        Athena_appts = pd.read_sql(sql,cnxn)\n",
    "\n",
    "        #upload the Roster file\n",
    "        roster = pd.read_excel(Payer_Roster[2],sheet_name= 'Engagement_List')\n",
    "        \n",
    "        #merge the athena_appt table with the Roster to Flag the attribution\n",
    "        final_df = pd.merge(Athena_appts,roster[['mrn','memberNo','Effective Date']], how='left' ,on='mrn')\n",
    "        final_df = final_df.replace(np.nan,'-')\n",
    "\n",
    "        #filter the df to include only the members with engaged PCP appointments\n",
    "        final_df = final_df[(final_df['serviceline'] == 'PC') & (final_df['engagement'] == 'Engaged' )]\n",
    "        \n",
    "        #export the final_df to an excel sheet\n",
    "        final_df.to_excel(ofolder[2] +File_name,index=False)\n",
    " \n",
    "    else:\n",
    "        print('dint work')\n",
    "print('COMPLETED')\n",
    "\n",
    "\n"
   ]
  },
  {
   "cell_type": "code",
   "execution_count": null,
   "id": "c9e345a6",
   "metadata": {},
   "outputs": [],
   "source": [
    "#roster = pd.read_excel(\"Roster/No Engagement UnitedList Jan2023.xlsx\",sheet_name= 'Engagement_List')\n",
    "#roster"
   ]
  },
  {
   "cell_type": "code",
   "execution_count": null,
   "id": "c03ad6d5",
   "metadata": {},
   "outputs": [],
   "source": []
  }
 ],
 "metadata": {
  "kernelspec": {
   "display_name": "Python 3 (ipykernel)",
   "language": "python",
   "name": "python3"
  },
  "language_info": {
   "codemirror_mode": {
    "name": "ipython",
    "version": 3
   },
   "file_extension": ".py",
   "mimetype": "text/x-python",
   "name": "python",
   "nbconvert_exporter": "python",
   "pygments_lexer": "ipython3",
   "version": "3.9.12"
  }
 },
 "nbformat": 4,
 "nbformat_minor": 5
}
