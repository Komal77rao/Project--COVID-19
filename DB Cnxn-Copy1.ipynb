{
 "cells": [
  {
   "cell_type": "code",
   "execution_count": 1,
   "id": "5f6b7cf9",
   "metadata": {},
   "outputs": [],
   "source": [
    "import pandas as pd\n",
    "import sqlalchemy \n",
    "from sqlalchemy import create_engine\n",
    "from sqlalchemy.engine.url import URL\n",
    "import pyodbc"
   ]
  },
  {
   "cell_type": "code",
   "execution_count": 2,
   "id": "615b105b",
   "metadata": {},
   "outputs": [
    {
     "data": {
      "text/plain": [
       "['SQL Server',\n",
       " 'SQL Server Native Client 11.0',\n",
       " 'ODBC Driver 17 for SQL Server',\n",
       " 'ODBC Driver 13 for SQL Server',\n",
       " 'Microsoft Access Driver (*.mdb, *.accdb)',\n",
       " 'Microsoft Excel Driver (*.xls, *.xlsx, *.xlsm, *.xlsb)',\n",
       " 'Microsoft Access Text Driver (*.txt, *.csv)',\n",
       " 'PostgreSQL ANSI(x64)',\n",
       " 'PostgreSQL Unicode(x64)']"
      ]
     },
     "execution_count": 2,
     "metadata": {},
     "output_type": "execute_result"
    }
   ],
   "source": [
    "pyodbc.drivers()"
   ]
  },
  {
   "cell_type": "markdown",
   "id": "f8362919",
   "metadata": {},
   "source": [
    "# Using SQLALchemy for Cnxn"
   ]
  },
  {
   "cell_type": "code",
   "execution_count": 3,
   "id": "5b6cd006",
   "metadata": {},
   "outputs": [],
   "source": [
    "cnxn_str = (\"Driver={SQL Server Native Client 11.0};\"\n",
    "            \"Server=NJDPatient1.Citymd.local;\"\n",
    "            \"Database=Summit;\"\n",
    "            \"Trusted_Connection=yes;\")\n",
    "connection_url = URL.create(\"mssql+pyodbc\", query={\"odbc_connect\": cnxn_str})\n",
    "\n",
    "from sqlalchemy import create_engine\n",
    "engine = create_engine(connection_url)\n"
   ]
  },
  {
   "cell_type": "code",
   "execution_count": null,
   "id": "f80ca659",
   "metadata": {},
   "outputs": [],
   "source": []
  },
  {
   "cell_type": "code",
   "execution_count": 4,
   "id": "2d93eb4f",
   "metadata": {},
   "outputs": [
    {
     "data": {
      "text/plain": [
       "<sqlalchemy.engine.cursor.LegacyCursorResult at 0x1e96eb61340>"
      ]
     },
     "execution_count": 4,
     "metadata": {},
     "output_type": "execute_result"
    }
   ],
   "source": [
    "ex = engine.connect()\n",
    "sql =\" \\\n",
    "select a.patientid,a.firstname,a.lastname,a.dob,a.sex,a.insurancepackageid,eligibilityservicedate, \\\n",
    "                      eligibilitystatus,SequenceNumber,\\\n",
    "                      row_number() over (partition by patientid order by eligibilityservicedate desc) as rn \\\n",
    "                      into ##temp1 \\\n",
    "                      from [Summit].[dbo].[Athena_PatientInsurance] a \\\n",
    "                      where  eligibilitystatus = 'Y' AND SequenceNumber = 1\"\n",
    "                                \n",
    "ex.execute(sql)"
   ]
  },
  {
   "cell_type": "code",
   "execution_count": null,
   "id": "2e7af9b7",
   "metadata": {},
   "outputs": [],
   "source": [
    "ex.close\n",
    "ex = engine.connect()\n",
    "temp = pd.read_sql_query(\"select * from ##temp1 where rn = 1\", engine)\n",
    "temp"
   ]
  },
  {
   "cell_type": "code",
   "execution_count": null,
   "id": "3bd0ad77",
   "metadata": {},
   "outputs": [],
   "source": []
  },
  {
   "cell_type": "code",
   "execution_count": null,
   "id": "b14306da",
   "metadata": {},
   "outputs": [],
   "source": [
    "ex = engine.connect()\n",
    "sql = \"Select * into ##temp2 from ##temp1 where rn = 1\"\n",
    "ex.execute(sql)\n",
    "ex.close"
   ]
  },
  {
   "cell_type": "code",
   "execution_count": null,
   "id": "b4645b7d",
   "metadata": {},
   "outputs": [],
   "source": [
    "ex = engine.connect()\n",
    "\n",
    "sql = pd.read_sql_query(\" \\\n",
    "select distinct a.patientid,a.firstname,a.lastname,a.dob,a.sex,b.custominsurancegrouping,a.eligibilityservicedate,\\ \n",
    "map.payerCategory,\\\n",
    "eligibilitystatus,\\\n",
    "SequenceNumber,\\\n",
    "c.MRN, \\\n",
    "Planpayer,\\\n",
    "Startdate,d.serviceline,d.engagement, \\\n",
    "d.lastvisitdate,LastPCvisitDate,PCP_Reason_Detail,Attributed_YN\\\n",
    "from ##temp2 as  a\\\n",
    "join [Summit].[dbo].[Athena_Payer] b on a.insurancepackageid = b. insurancepackageid \\\n",
    "left join VBC.dbo.PayerMapping map with(nolock) on map.InsurancePackageID = b.InsurancePackageID \\\n",
    "left join VBC.dbo.VBCAttributions c on a.patientid = c.enterpriseid \\\n",
    "left join VBC.dbo.PatSummitProviderEngagement d on a.patientid = d.enterpriseid \\\n",
    "where b.custominsurancegrouping = 'AETNA MEDICARE' \\\n",
    "AND eligibilitystatus = 'Y' AND SequenceNumber = 1 \\\n",
    "\",engine)\n",
    "\n"
   ]
  },
  {
   "cell_type": "code",
   "execution_count": null,
   "id": "1a7aafb1",
   "metadata": {},
   "outputs": [],
   "source": [
    "sql"
   ]
  },
  {
   "cell_type": "code",
   "execution_count": null,
   "id": "f9cce17e",
   "metadata": {},
   "outputs": [],
   "source": [
    "#cursor.execute(sql)"
   ]
  },
  {
   "cell_type": "code",
   "execution_count": null,
   "id": "5eceeaae",
   "metadata": {},
   "outputs": [],
   "source": [
    "#data = cursor.fetchall()"
   ]
  },
  {
   "cell_type": "code",
   "execution_count": null,
   "id": "28a30c38",
   "metadata": {},
   "outputs": [],
   "source": [
    "data"
   ]
  },
  {
   "cell_type": "code",
   "execution_count": null,
   "id": "0692ab9f",
   "metadata": {},
   "outputs": [],
   "source": [
    "ex = engine.connect()\n",
    "sql = \"DROP TABLE ##temp1\"\n",
    "ex.execute(sql)"
   ]
  }
 ],
 "metadata": {
  "kernelspec": {
   "display_name": "Python 3 (ipykernel)",
   "language": "python",
   "name": "python3"
  },
  "language_info": {
   "codemirror_mode": {
    "name": "ipython",
    "version": 3
   },
   "file_extension": ".py",
   "mimetype": "text/x-python",
   "name": "python",
   "nbconvert_exporter": "python",
   "pygments_lexer": "ipython3",
   "version": "3.9.12"
  }
 },
 "nbformat": 4,
 "nbformat_minor": 5
}
